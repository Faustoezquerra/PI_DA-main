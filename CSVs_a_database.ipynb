{
 "cells": [
  {
   "cell_type": "code",
   "execution_count": 24,
   "metadata": {},
   "outputs": [
    {
     "name": "stdout",
     "output_type": "stream",
     "text": [
      "Conexión exitosa a MySQL\n"
     ]
    }
   ],
   "source": [
    "import mysql.connector\n",
    "from mysql.connector import Error\n",
    "\n",
    "# Configura los detalles de la conexión\n",
    "config = {\n",
    "    'user': 'root',\n",
    "    'password': 'petrel1984',\n",
    "    'host': '127.0.0.1',  # O 'localhost'\n",
    "    'database': 'cryptos',\n",
    "}\n",
    "\n",
    "try:\n",
    "    connection = mysql.connector.connect(**config)\n",
    "    if connection.is_connected():\n",
    "        print('Conexión exitosa a MySQL')\n",
    "except mysql.connector.Error as e:\n",
    "    print('Error al conectar a MySQL:', e)"
   ]
  },
  {
   "cell_type": "code",
   "execution_count": 29,
   "metadata": {},
   "outputs": [
    {
     "name": "stdout",
     "output_type": "stream",
     "text": [
      "Datos del archivo API_coingenko\\criptos_a_precio_BTC\\criptos_a_precio_BTC.csv subidos correctamente a la tabla criptos_a_precio_BTC\n",
      "Datos del archivo API_coingenko\\fecha_precio_market_cap_total_volumes\\binancecoin_historical_data.csv subidos correctamente a la tabla binancecoin_historical_data\n",
      "Datos del archivo API_coingenko\\fecha_precio_market_cap_total_volumes\\bitcoin_historical_data.csv subidos correctamente a la tabla bitcoin_historical_data\n",
      "Datos del archivo API_coingenko\\fecha_precio_market_cap_total_volumes\\cardano_historical_data.csv subidos correctamente a la tabla cardano_historical_data\n",
      "Datos del archivo API_coingenko\\fecha_precio_market_cap_total_volumes\\dogecoin_historical_data.csv subidos correctamente a la tabla dogecoin_historical_data\n",
      "Datos del archivo API_coingenko\\fecha_precio_market_cap_total_volumes\\ethereum_historical_data.csv subidos correctamente a la tabla ethereum_historical_data\n",
      "Datos del archivo API_coingenko\\fecha_precio_market_cap_total_volumes\\polkadot_historical_data.csv subidos correctamente a la tabla polkadot_historical_data\n",
      "Datos del archivo API_coingenko\\fecha_precio_market_cap_total_volumes\\ripple_historical_data.csv subidos correctamente a la tabla ripple_historical_data\n",
      "Datos del archivo API_coingenko\\fecha_precio_market_cap_total_volumes\\solana_historical_data.csv subidos correctamente a la tabla solana_historical_data\n",
      "Datos del archivo API_coingenko\\fecha_precio_market_cap_total_volumes\\tether_historical_data.csv subidos correctamente a la tabla tether_historical_data\n",
      "Datos del archivo API_coingenko\\fecha_precio_market_cap_total_volumes\\uniswap_historical_data.csv subidos correctamente a la tabla uniswap_historical_data\n",
      "Datos del archivo API_coingenko\\KPIs_de_las_diez_cryptos\\binancecoin_data.csv subidos correctamente a la tabla binancecoin_data\n",
      "Datos del archivo API_coingenko\\KPIs_de_las_diez_cryptos\\bitcoin_data.csv subidos correctamente a la tabla bitcoin_data\n",
      "Datos del archivo API_coingenko\\KPIs_de_las_diez_cryptos\\cardano_data.csv subidos correctamente a la tabla cardano_data\n",
      "Datos del archivo API_coingenko\\KPIs_de_las_diez_cryptos\\dogecoin_data.csv subidos correctamente a la tabla dogecoin_data\n",
      "Datos del archivo API_coingenko\\KPIs_de_las_diez_cryptos\\ethereum_data.csv subidos correctamente a la tabla ethereum_data\n",
      "Datos del archivo API_coingenko\\KPIs_de_las_diez_cryptos\\polkadot_data.csv subidos correctamente a la tabla polkadot_data\n",
      "Datos del archivo API_coingenko\\KPIs_de_las_diez_cryptos\\ripple_data.csv subidos correctamente a la tabla ripple_data\n",
      "Datos del archivo API_coingenko\\KPIs_de_las_diez_cryptos\\solana_data.csv subidos correctamente a la tabla solana_data\n",
      "Datos del archivo API_coingenko\\KPIs_de_las_diez_cryptos\\tether_data.csv subidos correctamente a la tabla tether_data\n",
      "Datos del archivo API_coingenko\\KPIs_de_las_diez_cryptos\\uniswap_data.csv subidos correctamente a la tabla uniswap_data\n",
      "Datos del archivo Binance_info\\ADAUSDT_data.csv subidos correctamente a la tabla ADAUSDT_data\n",
      "Datos del archivo Binance_info\\BNBUSDT_data.csv subidos correctamente a la tabla BNBUSDT_data\n",
      "Datos del archivo Binance_info\\BTCUSDT_data.csv subidos correctamente a la tabla BTCUSDT_data\n",
      "Datos del archivo Binance_info\\DOGEUSDT_data.csv subidos correctamente a la tabla DOGEUSDT_data\n",
      "Datos del archivo Binance_info\\DOTUSDT_data.csv subidos correctamente a la tabla DOTUSDT_data\n",
      "Datos del archivo Binance_info\\ETHUSDT_data.csv subidos correctamente a la tabla ETHUSDT_data\n",
      "Datos del archivo Binance_info\\SOLUSDT_data.csv subidos correctamente a la tabla SOLUSDT_data\n",
      "Datos del archivo Binance_info\\UNIUSDT_data.csv subidos correctamente a la tabla UNIUSDT_data\n",
      "Datos del archivo Binance_info\\XRPUSDT_data.csv subidos correctamente a la tabla XRPUSDT_data\n"
     ]
    }
   ],
   "source": [
    "import pandas as pd\n",
    "import os\n",
    "\n",
    "csv_files = [r'API_coingenko\\criptos_a_precio_BTC\\criptos_a_precio_BTC.csv',\n",
    "             r'API_coingenko\\fecha_precio_market_cap_total_volumes\\binancecoin_historical_data.csv',\n",
    "             r'API_coingenko\\fecha_precio_market_cap_total_volumes\\bitcoin_historical_data.csv',\n",
    "             r'API_coingenko\\fecha_precio_market_cap_total_volumes\\cardano_historical_data.csv',\n",
    "             r'API_coingenko\\fecha_precio_market_cap_total_volumes\\dogecoin_historical_data.csv',\n",
    "             r'API_coingenko\\fecha_precio_market_cap_total_volumes\\ethereum_historical_data.csv',\n",
    "             r'API_coingenko\\fecha_precio_market_cap_total_volumes\\polkadot_historical_data.csv',\n",
    "             r'API_coingenko\\fecha_precio_market_cap_total_volumes\\ripple_historical_data.csv',\n",
    "             r'API_coingenko\\fecha_precio_market_cap_total_volumes\\solana_historical_data.csv',\n",
    "             r'API_coingenko\\fecha_precio_market_cap_total_volumes\\tether_historical_data.csv',\n",
    "             r'API_coingenko\\fecha_precio_market_cap_total_volumes\\uniswap_historical_data.csv',\n",
    "             r'API_coingenko\\KPIs_de_las_diez_cryptos\\binancecoin_data.csv',\n",
    "             r'API_coingenko\\KPIs_de_las_diez_cryptos\\bitcoin_data.csv',\n",
    "             r'API_coingenko\\KPIs_de_las_diez_cryptos\\cardano_data.csv',\n",
    "             r'API_coingenko\\KPIs_de_las_diez_cryptos\\dogecoin_data.csv',\n",
    "             r'API_coingenko\\KPIs_de_las_diez_cryptos\\ethereum_data.csv',\n",
    "             r'API_coingenko\\KPIs_de_las_diez_cryptos\\polkadot_data.csv',\n",
    "             r'API_coingenko\\KPIs_de_las_diez_cryptos\\ripple_data.csv',\n",
    "             r'API_coingenko\\KPIs_de_las_diez_cryptos\\solana_data.csv',\n",
    "             r'API_coingenko\\KPIs_de_las_diez_cryptos\\tether_data.csv',\n",
    "             r'API_coingenko\\KPIs_de_las_diez_cryptos\\uniswap_data.csv',\n",
    "             r'Binance_info\\ADAUSDT_data.csv',\n",
    "             r'Binance_info\\BNBUSDT_data.csv',\n",
    "             r'Binance_info\\BTCUSDT_data.csv',\n",
    "             r'Binance_info\\DOGEUSDT_data.csv',\n",
    "             r'Binance_info\\DOTUSDT_data.csv',\n",
    "             r'Binance_info\\ETHUSDT_data.csv',\n",
    "             r'Binance_info\\SOLUSDT_data.csv', \n",
    "             r'Binance_info\\UNIUSDT_data.csv',\n",
    "             r'Binance_info\\XRPUSDT_data.csv', \n",
    "            ]  \n",
    "for csv_file in csv_files:\n",
    "        try:\n",
    "            table_name = os.path.splitext(os.path.basename(csv_file))[0]\n",
    "            df = pd.read_csv(csv_file)\n",
    "\n",
    "            cursor = connection.cursor()\n",
    "\n",
    "            # Crear la tabla si no existe usando los nombres de columna del archivo CSV\n",
    "            create_table_query = f\"CREATE TABLE IF NOT EXISTS {table_name} ({', '.join([f'{col} VARCHAR(255)' for col in df.columns])});\"\n",
    "            cursor.execute(create_table_query)\n",
    "\n",
    "            # Insertar los datos en la tabla de manera segura\n",
    "            for _, row in df.iterrows():\n",
    "                placeholders = ', '.join(['%s'] * len(row))\n",
    "                insert_query = f\"INSERT INTO {table_name} VALUES ({placeholders});\"\n",
    "                cursor.execute(insert_query, tuple(row))\n",
    "                connection.commit()\n",
    "\n",
    "            print(f'Datos del archivo {csv_file} subidos correctamente a la tabla {table_name}')\n",
    "        except Error as e:\n",
    "            print(f'Error al subir datos del archivo {csv_file}:', e)"
   ]
  },
  {
   "cell_type": "code",
   "execution_count": 30,
   "metadata": {},
   "outputs": [
    {
     "name": "stdout",
     "output_type": "stream",
     "text": [
      "Conexión cerrada\n"
     ]
    }
   ],
   "source": [
    "if connection.is_connected():\n",
    "    connection.close()\n",
    "    print('Conexión cerrada')"
   ]
  }
 ],
 "metadata": {
  "kernelspec": {
   "display_name": "Python 3",
   "language": "python",
   "name": "python3"
  },
  "language_info": {
   "codemirror_mode": {
    "name": "ipython",
    "version": 3
   },
   "file_extension": ".py",
   "mimetype": "text/x-python",
   "name": "python",
   "nbconvert_exporter": "python",
   "pygments_lexer": "ipython3",
   "version": "3.10.2"
  },
  "orig_nbformat": 4
 },
 "nbformat": 4,
 "nbformat_minor": 2
}
