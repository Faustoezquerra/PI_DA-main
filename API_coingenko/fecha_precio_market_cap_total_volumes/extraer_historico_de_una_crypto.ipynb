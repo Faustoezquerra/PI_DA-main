{
 "cells": [
  {
   "cell_type": "code",
   "execution_count": 1,
   "metadata": {},
   "outputs": [],
   "source": [
    "import time\n",
    "\n",
    "# Obtener marca de tiempo Unix hace 10 años\n",
    "ten_years_ago = time.time() - (10 * 365 * 24 * 60 * 60)  # 10 años en segundos\n",
    "UNIX_TIMESTAMP_DE_HACE_10_ANOS = int(ten_years_ago)\n",
    "\n",
    "# Obtener marca de tiempo Unix actual\n",
    "UNIX_TIMESTAMP_DE_HOY = int(time.time())\n"
   ]
  },
  {
   "cell_type": "code",
   "execution_count": 6,
   "metadata": {},
   "outputs": [],
   "source": [
    "import pandas as pd\n",
    "import requests\n",
    "\n",
    "\n",
    "\n",
    "historical_url = f\"https://api.coingecko.com/api/v3/coins/uniswap/market_chart/range\"\n",
    "#https://api.coingecko.com/api/v3/coins/bitcoin/market_chart/range?vs_currency=usd&from=1392577232&to=1422577232&precision=2\n",
    "params = {\n",
    "    \"vs_currency\": \"usd\",\n",
    "    \"from\": UNIX_TIMESTAMP_DE_HACE_10_ANOS,\n",
    "    \"to\": UNIX_TIMESTAMP_DE_HOY,\n",
    "    \"precision\": 2\n",
    "}\n",
    "response = requests.get(historical_url, params=params)\n",
    "historical_data = response.json()\n",
    "\n",
    "data1 = historical_data[\"prices\"]\n",
    "data2 = historical_data[\"market_caps\"]\n",
    "data3 = historical_data[\"total_volumes\"]\n",
    "\n",
    "df1 = pd.DataFrame(data1, columns=[\"time1\", \"prices\"])\n",
    "df2 = pd.DataFrame(data2, columns=[\"time2\", \"market_cap\"])\n",
    "df3 = pd.DataFrame(data3, columns=[\"time3\", \"total_volumes\"])\n",
    "\n",
    "df1[\"time1\"] = pd.to_datetime(df1[\"time1\"], unit=\"ms\").dt.date\n",
    "\n",
    "df_total = pd.concat([df1, df2[\"market_cap\"], df3[\"total_volumes\"]], axis=1)\n",
    "\n",
    "df_total.to_csv(\"uniswap_historical_data.csv\", index=False)"
   ]
  }
 ],
 "metadata": {
  "kernelspec": {
   "display_name": "Python 3",
   "language": "python",
   "name": "python3"
  },
  "language_info": {
   "codemirror_mode": {
    "name": "ipython",
    "version": 3
   },
   "file_extension": ".py",
   "mimetype": "text/x-python",
   "name": "python",
   "nbconvert_exporter": "python",
   "pygments_lexer": "ipython3",
   "version": "3.10.2"
  },
  "orig_nbformat": 4
 },
 "nbformat": 4,
 "nbformat_minor": 2
}
